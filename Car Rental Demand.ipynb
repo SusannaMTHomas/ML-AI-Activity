{
 "cells": [
  {
   "cell_type": "markdown",
   "id": "8d281b4c",
   "metadata": {},
   "source": [
    "Team Members: Lakshmi Anil, Aparna S, Anpu Mathews, Susanna M Thomas"
   ]
  },
  {
   "cell_type": "code",
   "execution_count": 1,
   "id": "e4b5e473",
   "metadata": {},
   "outputs": [],
   "source": [
    "#importing required libraries\n",
    "import pandas as pd\n",
    "import numpy as np\n",
    "import seaborn as sns\n",
    "import matplotlib.pyplot as plt\n",
    "\n",
    "import warnings\n",
    "warnings.filterwarnings(\"ignore\")"
   ]
  },
  {
   "cell_type": "code",
   "execution_count": 2,
   "id": "c257c9d3",
   "metadata": {},
   "outputs": [],
   "source": [
    "#storing the dataset to a dataframe named 'data'\n",
    "data=pd.read_csv('train_E1GspfA.csv')"
   ]
  },
  {
   "cell_type": "code",
   "execution_count": 3,
   "id": "34b1fa9b",
   "metadata": {},
   "outputs": [
    {
     "data": {
      "text/html": [
       "<div>\n",
       "<style scoped>\n",
       "    .dataframe tbody tr th:only-of-type {\n",
       "        vertical-align: middle;\n",
       "    }\n",
       "\n",
       "    .dataframe tbody tr th {\n",
       "        vertical-align: top;\n",
       "    }\n",
       "\n",
       "    .dataframe thead th {\n",
       "        text-align: right;\n",
       "    }\n",
       "</style>\n",
       "<table border=\"1\" class=\"dataframe\">\n",
       "  <thead>\n",
       "    <tr style=\"text-align: right;\">\n",
       "      <th></th>\n",
       "      <th>date</th>\n",
       "      <th>hour</th>\n",
       "      <th>demand</th>\n",
       "    </tr>\n",
       "  </thead>\n",
       "  <tbody>\n",
       "    <tr>\n",
       "      <th>0</th>\n",
       "      <td>2018-08-18</td>\n",
       "      <td>9</td>\n",
       "      <td>91</td>\n",
       "    </tr>\n",
       "    <tr>\n",
       "      <th>1</th>\n",
       "      <td>2018-08-18</td>\n",
       "      <td>10</td>\n",
       "      <td>21</td>\n",
       "    </tr>\n",
       "    <tr>\n",
       "      <th>2</th>\n",
       "      <td>2018-08-18</td>\n",
       "      <td>13</td>\n",
       "      <td>23</td>\n",
       "    </tr>\n",
       "    <tr>\n",
       "      <th>3</th>\n",
       "      <td>2018-08-18</td>\n",
       "      <td>14</td>\n",
       "      <td>104</td>\n",
       "    </tr>\n",
       "    <tr>\n",
       "      <th>4</th>\n",
       "      <td>2018-08-18</td>\n",
       "      <td>15</td>\n",
       "      <td>81</td>\n",
       "    </tr>\n",
       "  </tbody>\n",
       "</table>\n",
       "</div>"
      ],
      "text/plain": [
       "         date  hour  demand\n",
       "0  2018-08-18     9      91\n",
       "1  2018-08-18    10      21\n",
       "2  2018-08-18    13      23\n",
       "3  2018-08-18    14     104\n",
       "4  2018-08-18    15      81"
      ]
     },
     "execution_count": 3,
     "metadata": {},
     "output_type": "execute_result"
    }
   ],
   "source": [
    "#displaying the first few rows\n",
    "data.head()"
   ]
  },
  {
   "cell_type": "code",
   "execution_count": 4,
   "id": "1fc5651a",
   "metadata": {},
   "outputs": [
    {
     "data": {
      "text/plain": [
       "(18247, 3)"
      ]
     },
     "execution_count": 4,
     "metadata": {},
     "output_type": "execute_result"
    }
   ],
   "source": [
    "data.shape"
   ]
  },
  {
   "cell_type": "markdown",
   "id": "8ad7425c",
   "metadata": {},
   "source": [
    "There are 18,247 observations and 3 features in the dataset."
   ]
  },
  {
   "cell_type": "code",
   "execution_count": 5,
   "id": "c788537f",
   "metadata": {},
   "outputs": [
    {
     "name": "stdout",
     "output_type": "stream",
     "text": [
      "<class 'pandas.core.frame.DataFrame'>\n",
      "RangeIndex: 18247 entries, 0 to 18246\n",
      "Data columns (total 3 columns):\n",
      " #   Column  Non-Null Count  Dtype \n",
      "---  ------  --------------  ----- \n",
      " 0   date    18247 non-null  object\n",
      " 1   hour    18247 non-null  int64 \n",
      " 2   demand  18247 non-null  int64 \n",
      "dtypes: int64(2), object(1)\n",
      "memory usage: 427.8+ KB\n"
     ]
    }
   ],
   "source": [
    "data.info()"
   ]
  },
  {
   "cell_type": "markdown",
   "id": "70282e25",
   "metadata": {},
   "source": [
    "There are no missing values in any of the columns."
   ]
  },
  {
   "cell_type": "code",
   "execution_count": 6,
   "id": "c334736e",
   "metadata": {},
   "outputs": [
    {
     "data": {
      "text/html": [
       "<div>\n",
       "<style scoped>\n",
       "    .dataframe tbody tr th:only-of-type {\n",
       "        vertical-align: middle;\n",
       "    }\n",
       "\n",
       "    .dataframe tbody tr th {\n",
       "        vertical-align: top;\n",
       "    }\n",
       "\n",
       "    .dataframe thead th {\n",
       "        text-align: right;\n",
       "    }\n",
       "</style>\n",
       "<table border=\"1\" class=\"dataframe\">\n",
       "  <thead>\n",
       "    <tr style=\"text-align: right;\">\n",
       "      <th></th>\n",
       "      <th>hour</th>\n",
       "      <th>demand</th>\n",
       "    </tr>\n",
       "  </thead>\n",
       "  <tbody>\n",
       "    <tr>\n",
       "      <th>count</th>\n",
       "      <td>18247.000000</td>\n",
       "      <td>18247.000000</td>\n",
       "    </tr>\n",
       "    <tr>\n",
       "      <th>mean</th>\n",
       "      <td>12.614731</td>\n",
       "      <td>73.991451</td>\n",
       "    </tr>\n",
       "    <tr>\n",
       "      <th>std</th>\n",
       "      <td>6.544963</td>\n",
       "      <td>41.678988</td>\n",
       "    </tr>\n",
       "    <tr>\n",
       "      <th>min</th>\n",
       "      <td>0.000000</td>\n",
       "      <td>1.000000</td>\n",
       "    </tr>\n",
       "    <tr>\n",
       "      <th>25%</th>\n",
       "      <td>8.000000</td>\n",
       "      <td>43.000000</td>\n",
       "    </tr>\n",
       "    <tr>\n",
       "      <th>50%</th>\n",
       "      <td>13.000000</td>\n",
       "      <td>71.000000</td>\n",
       "    </tr>\n",
       "    <tr>\n",
       "      <th>75%</th>\n",
       "      <td>18.000000</td>\n",
       "      <td>98.000000</td>\n",
       "    </tr>\n",
       "    <tr>\n",
       "      <th>max</th>\n",
       "      <td>23.000000</td>\n",
       "      <td>379.000000</td>\n",
       "    </tr>\n",
       "  </tbody>\n",
       "</table>\n",
       "</div>"
      ],
      "text/plain": [
       "               hour        demand\n",
       "count  18247.000000  18247.000000\n",
       "mean      12.614731     73.991451\n",
       "std        6.544963     41.678988\n",
       "min        0.000000      1.000000\n",
       "25%        8.000000     43.000000\n",
       "50%       13.000000     71.000000\n",
       "75%       18.000000     98.000000\n",
       "max       23.000000    379.000000"
      ]
     },
     "execution_count": 6,
     "metadata": {},
     "output_type": "execute_result"
    }
   ],
   "source": [
    "#descriptive statistics\n",
    "data.describe()"
   ]
  },
  {
   "cell_type": "code",
   "execution_count": 7,
   "id": "ecd1e90c",
   "metadata": {},
   "outputs": [
    {
     "data": {
      "text/html": [
       "<div>\n",
       "<style scoped>\n",
       "    .dataframe tbody tr th:only-of-type {\n",
       "        vertical-align: middle;\n",
       "    }\n",
       "\n",
       "    .dataframe tbody tr th {\n",
       "        vertical-align: top;\n",
       "    }\n",
       "\n",
       "    .dataframe thead th {\n",
       "        text-align: right;\n",
       "    }\n",
       "</style>\n",
       "<table border=\"1\" class=\"dataframe\">\n",
       "  <thead>\n",
       "    <tr style=\"text-align: right;\">\n",
       "      <th></th>\n",
       "      <th>date</th>\n",
       "    </tr>\n",
       "  </thead>\n",
       "  <tbody>\n",
       "    <tr>\n",
       "      <th>count</th>\n",
       "      <td>18247</td>\n",
       "    </tr>\n",
       "    <tr>\n",
       "      <th>unique</th>\n",
       "      <td>895</td>\n",
       "    </tr>\n",
       "    <tr>\n",
       "      <th>top</th>\n",
       "      <td>2021-02-28</td>\n",
       "    </tr>\n",
       "    <tr>\n",
       "      <th>freq</th>\n",
       "      <td>24</td>\n",
       "    </tr>\n",
       "  </tbody>\n",
       "</table>\n",
       "</div>"
      ],
      "text/plain": [
       "              date\n",
       "count        18247\n",
       "unique         895\n",
       "top     2021-02-28\n",
       "freq            24"
      ]
     },
     "execution_count": 7,
     "metadata": {},
     "output_type": "execute_result"
    }
   ],
   "source": [
    "data.describe(include=object)"
   ]
  },
  {
   "cell_type": "code",
   "execution_count": 8,
   "id": "f066e419",
   "metadata": {},
   "outputs": [
    {
     "data": {
      "text/html": [
       "<div>\n",
       "<style scoped>\n",
       "    .dataframe tbody tr th:only-of-type {\n",
       "        vertical-align: middle;\n",
       "    }\n",
       "\n",
       "    .dataframe tbody tr th {\n",
       "        vertical-align: top;\n",
       "    }\n",
       "\n",
       "    .dataframe thead th {\n",
       "        text-align: right;\n",
       "    }\n",
       "</style>\n",
       "<table border=\"1\" class=\"dataframe\">\n",
       "  <thead>\n",
       "    <tr style=\"text-align: right;\">\n",
       "      <th></th>\n",
       "      <th>date</th>\n",
       "      <th>hour</th>\n",
       "      <th>demand</th>\n",
       "    </tr>\n",
       "  </thead>\n",
       "  <tbody>\n",
       "    <tr>\n",
       "      <th>18242</th>\n",
       "      <td>2021-02-28</td>\n",
       "      <td>19</td>\n",
       "      <td>95</td>\n",
       "    </tr>\n",
       "    <tr>\n",
       "      <th>18243</th>\n",
       "      <td>2021-02-28</td>\n",
       "      <td>20</td>\n",
       "      <td>88</td>\n",
       "    </tr>\n",
       "    <tr>\n",
       "      <th>18244</th>\n",
       "      <td>2021-02-28</td>\n",
       "      <td>21</td>\n",
       "      <td>39</td>\n",
       "    </tr>\n",
       "    <tr>\n",
       "      <th>18245</th>\n",
       "      <td>2021-02-28</td>\n",
       "      <td>22</td>\n",
       "      <td>104</td>\n",
       "    </tr>\n",
       "    <tr>\n",
       "      <th>18246</th>\n",
       "      <td>2021-02-28</td>\n",
       "      <td>23</td>\n",
       "      <td>85</td>\n",
       "    </tr>\n",
       "  </tbody>\n",
       "</table>\n",
       "</div>"
      ],
      "text/plain": [
       "             date  hour  demand\n",
       "18242  2021-02-28    19      95\n",
       "18243  2021-02-28    20      88\n",
       "18244  2021-02-28    21      39\n",
       "18245  2021-02-28    22     104\n",
       "18246  2021-02-28    23      85"
      ]
     },
     "execution_count": 8,
     "metadata": {},
     "output_type": "execute_result"
    }
   ],
   "source": [
    "#displaying the last few rows\n",
    "data.tail()"
   ]
  },
  {
   "cell_type": "markdown",
   "id": "49a2d109",
   "metadata": {},
   "source": [
    "The data available is from August 2018 to February 2021."
   ]
  },
  {
   "cell_type": "markdown",
   "id": "9813de97",
   "metadata": {},
   "source": [
    "# Feature Engineering"
   ]
  },
  {
   "cell_type": "code",
   "execution_count": 9,
   "id": "a0b024ce",
   "metadata": {},
   "outputs": [],
   "source": [
    "#converting date variable to datetime object\n",
    "data['date'] = pd.to_datetime(data['date'])\n"
   ]
  },
  {
   "cell_type": "code",
   "execution_count": 10,
   "id": "f7a6fc63",
   "metadata": {},
   "outputs": [
    {
     "data": {
      "text/html": [
       "<div>\n",
       "<style scoped>\n",
       "    .dataframe tbody tr th:only-of-type {\n",
       "        vertical-align: middle;\n",
       "    }\n",
       "\n",
       "    .dataframe tbody tr th {\n",
       "        vertical-align: top;\n",
       "    }\n",
       "\n",
       "    .dataframe thead th {\n",
       "        text-align: right;\n",
       "    }\n",
       "</style>\n",
       "<table border=\"1\" class=\"dataframe\">\n",
       "  <thead>\n",
       "    <tr style=\"text-align: right;\">\n",
       "      <th></th>\n",
       "      <th>hour</th>\n",
       "      <th>demand</th>\n",
       "      <th>year</th>\n",
       "      <th>month</th>\n",
       "      <th>isQuarterDate</th>\n",
       "      <th>day</th>\n",
       "      <th>dayOfWeek</th>\n",
       "      <th>isWeekend</th>\n",
       "    </tr>\n",
       "  </thead>\n",
       "  <tbody>\n",
       "    <tr>\n",
       "      <th>0</th>\n",
       "      <td>9</td>\n",
       "      <td>91</td>\n",
       "      <td>2018</td>\n",
       "      <td>8</td>\n",
       "      <td>3</td>\n",
       "      <td>18</td>\n",
       "      <td>5</td>\n",
       "      <td>1</td>\n",
       "    </tr>\n",
       "    <tr>\n",
       "      <th>1</th>\n",
       "      <td>10</td>\n",
       "      <td>21</td>\n",
       "      <td>2018</td>\n",
       "      <td>8</td>\n",
       "      <td>3</td>\n",
       "      <td>18</td>\n",
       "      <td>5</td>\n",
       "      <td>1</td>\n",
       "    </tr>\n",
       "    <tr>\n",
       "      <th>2</th>\n",
       "      <td>13</td>\n",
       "      <td>23</td>\n",
       "      <td>2018</td>\n",
       "      <td>8</td>\n",
       "      <td>3</td>\n",
       "      <td>18</td>\n",
       "      <td>5</td>\n",
       "      <td>1</td>\n",
       "    </tr>\n",
       "    <tr>\n",
       "      <th>3</th>\n",
       "      <td>14</td>\n",
       "      <td>104</td>\n",
       "      <td>2018</td>\n",
       "      <td>8</td>\n",
       "      <td>3</td>\n",
       "      <td>18</td>\n",
       "      <td>5</td>\n",
       "      <td>1</td>\n",
       "    </tr>\n",
       "    <tr>\n",
       "      <th>4</th>\n",
       "      <td>15</td>\n",
       "      <td>81</td>\n",
       "      <td>2018</td>\n",
       "      <td>8</td>\n",
       "      <td>3</td>\n",
       "      <td>18</td>\n",
       "      <td>5</td>\n",
       "      <td>1</td>\n",
       "    </tr>\n",
       "  </tbody>\n",
       "</table>\n",
       "</div>"
      ],
      "text/plain": [
       "   hour  demand  year  month  isQuarterDate  day  dayOfWeek  isWeekend\n",
       "0     9      91  2018      8              3   18          5          1\n",
       "1    10      21  2018      8              3   18          5          1\n",
       "2    13      23  2018      8              3   18          5          1\n",
       "3    14     104  2018      8              3   18          5          1\n",
       "4    15      81  2018      8              3   18          5          1"
      ]
     },
     "execution_count": 10,
     "metadata": {},
     "output_type": "execute_result"
    }
   ],
   "source": [
    "#extracting datetime features from the date variable\n",
    "data['year'] = data['date'].apply(lambda x:x.year)\n",
    "data['month'] = data['date'].apply(lambda x:x.month)\n",
    "data['isQuarterDate'] = data['date'].apply(lambda x:x.quarter)\n",
    "data['day'] = data['date'].apply(lambda x:x.day)\n",
    "data['dayOfWeek'] = data['date'].apply(lambda x:x.dayofweek)\n",
    "data['isWeekend'] = data['dayOfWeek'].apply(lambda x:1 if x>4 else 0)\n",
    "\n",
    "#dropping the date feature since all the information is extracted\n",
    "data.drop(['date'], axis=1, inplace = True)\n",
    "\n",
    "#checking the dataset \n",
    "data.head()"
   ]
  },
  {
   "cell_type": "code",
   "execution_count": 11,
   "id": "72bc8eff",
   "metadata": {},
   "outputs": [
    {
     "data": {
      "image/png": "[encoded data removed]",
      "text/plain": [
       "<Figure size 864x288 with 1 Axes>"
      ]
     },
     "metadata": {
      "needs_background": "light"
     },
     "output_type": "display_data"
    }
   ],
   "source": [
    "#Hour vs Demand\n",
    "\n",
    "plt.figure(figsize=(12,4))\n",
    "fig=sns.barplot(x=data['hour'], y=data['demand'])\n",
    "\n",
    "#to get the count displayed on the chart\n",
    "for p in fig.patches:\n",
    "    fig.annotate(round(p.get_height(),2) , (p.get_x()+0.3, p.get_height()+2.5))\n",
    "plt.show()"
   ]
  },
  {
   "cell_type": "code",
   "execution_count": 12,
   "id": "5e235617",
   "metadata": {},
   "outputs": [
    {
     "data": {
      "text/html": [
       "<div>\n",
       "<style scoped>\n",
       "    .dataframe tbody tr th:only-of-type {\n",
       "        vertical-align: middle;\n",
       "    }\n",
       "\n",
       "    .dataframe tbody tr th {\n",
       "        vertical-align: top;\n",
       "    }\n",
       "\n",
       "    .dataframe thead th {\n",
       "        text-align: right;\n",
       "    }\n",
       "</style>\n",
       "<table border=\"1\" class=\"dataframe\">\n",
       "  <thead>\n",
       "    <tr style=\"text-align: right;\">\n",
       "      <th></th>\n",
       "      <th>hour</th>\n",
       "      <th>demand</th>\n",
       "      <th>year</th>\n",
       "      <th>month</th>\n",
       "      <th>isQuarterDate</th>\n",
       "      <th>day</th>\n",
       "      <th>dayOfWeek</th>\n",
       "      <th>isWeekend</th>\n",
       "      <th>timeOfDay</th>\n",
       "    </tr>\n",
       "  </thead>\n",
       "  <tbody>\n",
       "    <tr>\n",
       "      <th>0</th>\n",
       "      <td>9</td>\n",
       "      <td>91</td>\n",
       "      <td>2018</td>\n",
       "      <td>8</td>\n",
       "      <td>3</td>\n",
       "      <td>18</td>\n",
       "      <td>5</td>\n",
       "      <td>1</td>\n",
       "      <td>Forenoon</td>\n",
       "    </tr>\n",
       "    <tr>\n",
       "      <th>1</th>\n",
       "      <td>10</td>\n",
       "      <td>21</td>\n",
       "      <td>2018</td>\n",
       "      <td>8</td>\n",
       "      <td>3</td>\n",
       "      <td>18</td>\n",
       "      <td>5</td>\n",
       "      <td>1</td>\n",
       "      <td>Forenoon</td>\n",
       "    </tr>\n",
       "    <tr>\n",
       "      <th>2</th>\n",
       "      <td>13</td>\n",
       "      <td>23</td>\n",
       "      <td>2018</td>\n",
       "      <td>8</td>\n",
       "      <td>3</td>\n",
       "      <td>18</td>\n",
       "      <td>5</td>\n",
       "      <td>1</td>\n",
       "      <td>Afternoon</td>\n",
       "    </tr>\n",
       "    <tr>\n",
       "      <th>3</th>\n",
       "      <td>14</td>\n",
       "      <td>104</td>\n",
       "      <td>2018</td>\n",
       "      <td>8</td>\n",
       "      <td>3</td>\n",
       "      <td>18</td>\n",
       "      <td>5</td>\n",
       "      <td>1</td>\n",
       "      <td>Afternoon</td>\n",
       "    </tr>\n",
       "    <tr>\n",
       "      <th>4</th>\n",
       "      <td>15</td>\n",
       "      <td>81</td>\n",
       "      <td>2018</td>\n",
       "      <td>8</td>\n",
       "      <td>3</td>\n",
       "      <td>18</td>\n",
       "      <td>5</td>\n",
       "      <td>1</td>\n",
       "      <td>Afternoon</td>\n",
       "    </tr>\n",
       "  </tbody>\n",
       "</table>\n",
       "</div>"
      ],
      "text/plain": [
       "   hour  demand  year  month  isQuarterDate  day  dayOfWeek  isWeekend  \\\n",
       "0     9      91  2018      8              3   18          5          1   \n",
       "1    10      21  2018      8              3   18          5          1   \n",
       "2    13      23  2018      8              3   18          5          1   \n",
       "3    14     104  2018      8              3   18          5          1   \n",
       "4    15      81  2018      8              3   18          5          1   \n",
       "\n",
       "   timeOfDay  \n",
       "0   Forenoon  \n",
       "1   Forenoon  \n",
       "2  Afternoon  \n",
       "3  Afternoon  \n",
       "4  Afternoon  "
      ]
     },
     "execution_count": 12,
     "metadata": {},
     "output_type": "execute_result"
    }
   ],
   "source": [
    "#defining a function to find the timing of the day\n",
    "def timeOfDay(n):\n",
    "    if n in range(7,12):\n",
    "        return 'Forenoon'\n",
    "    elif n in range(12,18):\n",
    "        return 'Afternoon'\n",
    "    elif n in range(18,123): \n",
    "        return 'Evening'\n",
    "    elif n in range(0,7) or n == 23:\n",
    "        return 'Night'\n",
    "    \n",
    "data['timeOfDay'] = data['hour'].apply(lambda x: timeOfDay(x))\n",
    "data.head()"
   ]
  },
  {
   "cell_type": "code",
   "execution_count": 13,
   "id": "b96713b3",
   "metadata": {},
   "outputs": [
    {
     "data": {
      "text/html": [
       "<div>\n",
       "<style scoped>\n",
       "    .dataframe tbody tr th:only-of-type {\n",
       "        vertical-align: middle;\n",
       "    }\n",
       "\n",
       "    .dataframe tbody tr th {\n",
       "        vertical-align: top;\n",
       "    }\n",
       "\n",
       "    .dataframe thead th {\n",
       "        text-align: right;\n",
       "    }\n",
       "</style>\n",
       "<table border=\"1\" class=\"dataframe\">\n",
       "  <thead>\n",
       "    <tr style=\"text-align: right;\">\n",
       "      <th></th>\n",
       "      <th>hour</th>\n",
       "      <th>demand</th>\n",
       "      <th>year</th>\n",
       "      <th>month</th>\n",
       "      <th>isQuarterDate</th>\n",
       "      <th>day</th>\n",
       "      <th>dayOfWeek</th>\n",
       "      <th>isWeekend</th>\n",
       "      <th>timeOfDay</th>\n",
       "      <th>Season</th>\n",
       "    </tr>\n",
       "  </thead>\n",
       "  <tbody>\n",
       "    <tr>\n",
       "      <th>0</th>\n",
       "      <td>9</td>\n",
       "      <td>91</td>\n",
       "      <td>2018</td>\n",
       "      <td>8</td>\n",
       "      <td>3</td>\n",
       "      <td>18</td>\n",
       "      <td>5</td>\n",
       "      <td>1</td>\n",
       "      <td>Forenoon</td>\n",
       "      <td>Monsoon</td>\n",
       "    </tr>\n",
       "    <tr>\n",
       "      <th>1</th>\n",
       "      <td>10</td>\n",
       "      <td>21</td>\n",
       "      <td>2018</td>\n",
       "      <td>8</td>\n",
       "      <td>3</td>\n",
       "      <td>18</td>\n",
       "      <td>5</td>\n",
       "      <td>1</td>\n",
       "      <td>Forenoon</td>\n",
       "      <td>Monsoon</td>\n",
       "    </tr>\n",
       "    <tr>\n",
       "      <th>2</th>\n",
       "      <td>13</td>\n",
       "      <td>23</td>\n",
       "      <td>2018</td>\n",
       "      <td>8</td>\n",
       "      <td>3</td>\n",
       "      <td>18</td>\n",
       "      <td>5</td>\n",
       "      <td>1</td>\n",
       "      <td>Afternoon</td>\n",
       "      <td>Monsoon</td>\n",
       "    </tr>\n",
       "    <tr>\n",
       "      <th>3</th>\n",
       "      <td>14</td>\n",
       "      <td>104</td>\n",
       "      <td>2018</td>\n",
       "      <td>8</td>\n",
       "      <td>3</td>\n",
       "      <td>18</td>\n",
       "      <td>5</td>\n",
       "      <td>1</td>\n",
       "      <td>Afternoon</td>\n",
       "      <td>Monsoon</td>\n",
       "    </tr>\n",
       "    <tr>\n",
       "      <th>4</th>\n",
       "      <td>15</td>\n",
       "      <td>81</td>\n",
       "      <td>2018</td>\n",
       "      <td>8</td>\n",
       "      <td>3</td>\n",
       "      <td>18</td>\n",
       "      <td>5</td>\n",
       "      <td>1</td>\n",
       "      <td>Afternoon</td>\n",
       "      <td>Monsoon</td>\n",
       "    </tr>\n",
       "  </tbody>\n",
       "</table>\n",
       "</div>"
      ],
      "text/plain": [
       "   hour  demand  year  month  isQuarterDate  day  dayOfWeek  isWeekend  \\\n",
       "0     9      91  2018      8              3   18          5          1   \n",
       "1    10      21  2018      8              3   18          5          1   \n",
       "2    13      23  2018      8              3   18          5          1   \n",
       "3    14     104  2018      8              3   18          5          1   \n",
       "4    15      81  2018      8              3   18          5          1   \n",
       "\n",
       "   timeOfDay   Season  \n",
       "0   Forenoon  Monsoon  \n",
       "1   Forenoon  Monsoon  \n",
       "2  Afternoon  Monsoon  \n",
       "3  Afternoon  Monsoon  \n",
       "4  Afternoon  Monsoon  "
      ]
     },
     "execution_count": 13,
     "metadata": {},
     "output_type": "execute_result"
    }
   ],
   "source": [
    "#defining a function to find the season\n",
    "def monthToSeasons(x):\n",
    "    if x in[3,4,5]:\n",
    "        return 'Summer'\n",
    "    elif x in [6,7,8]:\n",
    "        return 'Monsoon'\n",
    "    elif x in [9,10,11]:\n",
    "        return 'Autumn'\n",
    "    elif x in [12,1,2]:\n",
    "        return 'Winter'\n",
    "    \n",
    "data['Season'] = data['month'].apply(monthToSeasons)\n",
    "data.head()"
   ]
  },
  {
   "cell_type": "code",
   "execution_count": 14,
   "id": "4f8bcd32",
   "metadata": {},
   "outputs": [
    {
     "data": {
      "image/png": "[encoded data removed]",
      "text/plain": [
       "<Figure size 864x288 with 1 Axes>"
      ]
     },
     "metadata": {
      "needs_background": "light"
     },
     "output_type": "display_data"
    }
   ],
   "source": [
    "#Time of Day vs Demand\n",
    "\n",
    "plt.figure(figsize=(12,4))\n",
    "fig=sns.barplot(x=data['timeOfDay'], y=data['demand'])\n",
    "\n",
    "#to get the count displayed on the chart\n",
    "for p in fig.patches:\n",
    "    fig.annotate(round(p.get_height(),2) , (p.get_x()+0.3, p.get_height()+2.5))\n",
    "plt.show()"
   ]
  },
  {
   "cell_type": "code",
   "execution_count": 15,
   "id": "ae3e9348",
   "metadata": {},
   "outputs": [
    {
     "data": {
      "image/png": "[encoded data removed]",
      "text/plain": [
       "<Figure size 864x288 with 1 Axes>"
      ]
     },
     "metadata": {
      "needs_background": "light"
     },
     "output_type": "display_data"
    }
   ],
   "source": [
    "#Season vs Demand\n",
    "\n",
    "plt.figure(figsize=(12,4))\n",
    "fig=sns.barplot(x=data['Season'], y=data['demand'])\n",
    "\n",
    "#to get the count displayed on the chart\n",
    "for p in fig.patches:\n",
    "    fig.annotate(round(p.get_height(),2) , (p.get_x()+0.325, p.get_height()+2))\n",
    "plt.show()"
   ]
  },
  {
   "cell_type": "code",
   "execution_count": 16,
   "id": "d280e284",
   "metadata": {},
   "outputs": [
    {
     "data": {
      "text/html": [
       "<div>\n",
       "<style scoped>\n",
       "    .dataframe tbody tr th:only-of-type {\n",
       "        vertical-align: middle;\n",
       "    }\n",
       "\n",
       "    .dataframe tbody tr th {\n",
       "        vertical-align: top;\n",
       "    }\n",
       "\n",
       "    .dataframe thead th {\n",
       "        text-align: right;\n",
       "    }\n",
       "</style>\n",
       "<table border=\"1\" class=\"dataframe\">\n",
       "  <thead>\n",
       "    <tr style=\"text-align: right;\">\n",
       "      <th></th>\n",
       "      <th>hour</th>\n",
       "      <th>demand</th>\n",
       "      <th>year</th>\n",
       "      <th>month</th>\n",
       "      <th>isQuarterDate</th>\n",
       "      <th>day</th>\n",
       "      <th>dayOfWeek</th>\n",
       "      <th>isWeekend</th>\n",
       "      <th>timeOfDay</th>\n",
       "      <th>Season</th>\n",
       "    </tr>\n",
       "  </thead>\n",
       "  <tbody>\n",
       "    <tr>\n",
       "      <th>0</th>\n",
       "      <td>9</td>\n",
       "      <td>91</td>\n",
       "      <td>2018</td>\n",
       "      <td>8</td>\n",
       "      <td>3</td>\n",
       "      <td>18</td>\n",
       "      <td>5</td>\n",
       "      <td>1</td>\n",
       "      <td>1</td>\n",
       "      <td>0</td>\n",
       "    </tr>\n",
       "    <tr>\n",
       "      <th>1</th>\n",
       "      <td>10</td>\n",
       "      <td>21</td>\n",
       "      <td>2018</td>\n",
       "      <td>8</td>\n",
       "      <td>3</td>\n",
       "      <td>18</td>\n",
       "      <td>5</td>\n",
       "      <td>1</td>\n",
       "      <td>1</td>\n",
       "      <td>0</td>\n",
       "    </tr>\n",
       "    <tr>\n",
       "      <th>2</th>\n",
       "      <td>13</td>\n",
       "      <td>23</td>\n",
       "      <td>2018</td>\n",
       "      <td>8</td>\n",
       "      <td>3</td>\n",
       "      <td>18</td>\n",
       "      <td>5</td>\n",
       "      <td>1</td>\n",
       "      <td>3</td>\n",
       "      <td>0</td>\n",
       "    </tr>\n",
       "    <tr>\n",
       "      <th>3</th>\n",
       "      <td>14</td>\n",
       "      <td>104</td>\n",
       "      <td>2018</td>\n",
       "      <td>8</td>\n",
       "      <td>3</td>\n",
       "      <td>18</td>\n",
       "      <td>5</td>\n",
       "      <td>1</td>\n",
       "      <td>3</td>\n",
       "      <td>0</td>\n",
       "    </tr>\n",
       "    <tr>\n",
       "      <th>4</th>\n",
       "      <td>15</td>\n",
       "      <td>81</td>\n",
       "      <td>2018</td>\n",
       "      <td>8</td>\n",
       "      <td>3</td>\n",
       "      <td>18</td>\n",
       "      <td>5</td>\n",
       "      <td>1</td>\n",
       "      <td>3</td>\n",
       "      <td>0</td>\n",
       "    </tr>\n",
       "  </tbody>\n",
       "</table>\n",
       "</div>"
      ],
      "text/plain": [
       "   hour  demand  year  month  isQuarterDate  day  dayOfWeek  isWeekend  \\\n",
       "0     9      91  2018      8              3   18          5          1   \n",
       "1    10      21  2018      8              3   18          5          1   \n",
       "2    13      23  2018      8              3   18          5          1   \n",
       "3    14     104  2018      8              3   18          5          1   \n",
       "4    15      81  2018      8              3   18          5          1   \n",
       "\n",
       "   timeOfDay  Season  \n",
       "0          1       0  \n",
       "1          1       0  \n",
       "2          3       0  \n",
       "3          3       0  \n",
       "4          3       0  "
      ]
     },
     "execution_count": 16,
     "metadata": {},
     "output_type": "execute_result"
    }
   ],
   "source": [
    "# replacing the categorical features with numerical values\n",
    "data['timeOfDay'].replace({'Forenoon': 1, 'Afternoon':3, 'Evening':2, 'Night':0}, \n",
    "                          inplace=True)\n",
    "\n",
    "\n",
    "data['Season'].replace({'Summer':1,'Monsoon':0,'Autumn':3,'Winter':2},inplace=True)\n",
    "data.head()"
   ]
  },
  {
   "cell_type": "markdown",
   "id": "b111720a",
   "metadata": {},
   "source": [
    "# Handling of cyclical data"
   ]
  },
  {
   "cell_type": "markdown",
   "id": "eae5f132",
   "metadata": {},
   "source": [
    "The following features are cyclical in nature.<br>'hour','isQuarterDate','dayOfWeek'  and 'month'.<br>Sine and cosine transformations are done on the cyclical data."
   ]
  },
  {
   "cell_type": "markdown",
   "id": "c6bbb206",
   "metadata": {},
   "source": [
    "last_week['Sin_Hour'] = np.sin(2 * np.pi * last_week['Hour'] / max(last_week['Hour'])) <br>last_week['Cos_Hour'] = np.cos(2 * np.pi * last_week['Hour'] / max(last_week['Hour']))"
   ]
  },
  {
   "cell_type": "code",
   "execution_count": 17,
   "id": "28934be3",
   "metadata": {},
   "outputs": [],
   "source": [
    "#defining fucntionsfor sine and cosine transformations\n",
    "def sin_transform(x,max_value):\n",
    "    return np.sin(2*np.pi*x/max_value)\n",
    "\n",
    "def cos_transform(x,max_value):\n",
    "    return np.cos(2*np.pi*x/max_value)"
   ]
  },
  {
   "cell_type": "code",
   "execution_count": 18,
   "id": "f4aa0ac9",
   "metadata": {},
   "outputs": [],
   "source": [
    "#applying the transformations over the cyclical data\n",
    "data['sin_hour'] = data['hour'].apply(lambda x: sin_transform(x,24))\n",
    "data['cos_hour'] = data['hour'].apply(lambda x: cos_transform(x,24))\n",
    "data['sin_month'] = data['month'].apply(lambda x: sin_transform(x,12))\n",
    "data['cos_month'] = data['month'].apply(lambda x: cos_transform(x,12))\n",
    "data['sin_isQuarterDate'] = data['isQuarterDate'].apply(lambda x: sin_transform(x,4))\n",
    "data['cos_isQuarterDate'] = data['isQuarterDate'].apply(lambda x: cos_transform(x,4))\n",
    "data['sin_dayOfWeek'] = data['dayOfWeek'].apply(lambda x: sin_transform(x,7))\n",
    "data['cos_dayOfWeek'] = data['dayOfWeek'].apply(lambda x: cos_transform(x,7))\n",
    "\n",
    "data.drop(['hour','month','isQuarterDate','dayOfWeek'],inplace=True,axis=1)"
   ]
  },
  {
   "cell_type": "code",
   "execution_count": 19,
   "id": "f4f6210a",
   "metadata": {},
   "outputs": [
    {
     "data": {
      "text/html": [
       "<div>\n",
       "<style scoped>\n",
       "    .dataframe tbody tr th:only-of-type {\n",
       "        vertical-align: middle;\n",
       "    }\n",
       "\n",
       "    .dataframe tbody tr th {\n",
       "        vertical-align: top;\n",
       "    }\n",
       "\n",
       "    .dataframe thead th {\n",
       "        text-align: right;\n",
       "    }\n",
       "</style>\n",
       "<table border=\"1\" class=\"dataframe\">\n",
       "  <thead>\n",
       "    <tr style=\"text-align: right;\">\n",
       "      <th></th>\n",
       "      <th>demand</th>\n",
       "      <th>year</th>\n",
       "      <th>day</th>\n",
       "      <th>isWeekend</th>\n",
       "      <th>timeOfDay</th>\n",
       "      <th>Season</th>\n",
       "      <th>sin_hour</th>\n",
       "      <th>cos_hour</th>\n",
       "      <th>sin_month</th>\n",
       "      <th>cos_month</th>\n",
       "      <th>sin_isQuarterDate</th>\n",
       "      <th>cos_isQuarterDate</th>\n",
       "      <th>sin_dayOfWeek</th>\n",
       "      <th>cos_dayOfWeek</th>\n",
       "    </tr>\n",
       "  </thead>\n",
       "  <tbody>\n",
       "    <tr>\n",
       "      <th>0</th>\n",
       "      <td>91</td>\n",
       "      <td>2018</td>\n",
       "      <td>18</td>\n",
       "      <td>1</td>\n",
       "      <td>1</td>\n",
       "      <td>0</td>\n",
       "      <td>0.707107</td>\n",
       "      <td>-0.707107</td>\n",
       "      <td>-0.866025</td>\n",
       "      <td>-0.5</td>\n",
       "      <td>-1.0</td>\n",
       "      <td>-1.836970e-16</td>\n",
       "      <td>-0.974928</td>\n",
       "      <td>-0.222521</td>\n",
       "    </tr>\n",
       "    <tr>\n",
       "      <th>1</th>\n",
       "      <td>21</td>\n",
       "      <td>2018</td>\n",
       "      <td>18</td>\n",
       "      <td>1</td>\n",
       "      <td>1</td>\n",
       "      <td>0</td>\n",
       "      <td>0.500000</td>\n",
       "      <td>-0.866025</td>\n",
       "      <td>-0.866025</td>\n",
       "      <td>-0.5</td>\n",
       "      <td>-1.0</td>\n",
       "      <td>-1.836970e-16</td>\n",
       "      <td>-0.974928</td>\n",
       "      <td>-0.222521</td>\n",
       "    </tr>\n",
       "    <tr>\n",
       "      <th>2</th>\n",
       "      <td>23</td>\n",
       "      <td>2018</td>\n",
       "      <td>18</td>\n",
       "      <td>1</td>\n",
       "      <td>3</td>\n",
       "      <td>0</td>\n",
       "      <td>-0.258819</td>\n",
       "      <td>-0.965926</td>\n",
       "      <td>-0.866025</td>\n",
       "      <td>-0.5</td>\n",
       "      <td>-1.0</td>\n",
       "      <td>-1.836970e-16</td>\n",
       "      <td>-0.974928</td>\n",
       "      <td>-0.222521</td>\n",
       "    </tr>\n",
       "    <tr>\n",
       "      <th>3</th>\n",
       "      <td>104</td>\n",
       "      <td>2018</td>\n",
       "      <td>18</td>\n",
       "      <td>1</td>\n",
       "      <td>3</td>\n",
       "      <td>0</td>\n",
       "      <td>-0.500000</td>\n",
       "      <td>-0.866025</td>\n",
       "      <td>-0.866025</td>\n",
       "      <td>-0.5</td>\n",
       "      <td>-1.0</td>\n",
       "      <td>-1.836970e-16</td>\n",
       "      <td>-0.974928</td>\n",
       "      <td>-0.222521</td>\n",
       "    </tr>\n",
       "    <tr>\n",
       "      <th>4</th>\n",
       "      <td>81</td>\n",
       "      <td>2018</td>\n",
       "      <td>18</td>\n",
       "      <td>1</td>\n",
       "      <td>3</td>\n",
       "      <td>0</td>\n",
       "      <td>-0.707107</td>\n",
       "      <td>-0.707107</td>\n",
       "      <td>-0.866025</td>\n",
       "      <td>-0.5</td>\n",
       "      <td>-1.0</td>\n",
       "      <td>-1.836970e-16</td>\n",
       "      <td>-0.974928</td>\n",
       "      <td>-0.222521</td>\n",
       "    </tr>\n",
       "  </tbody>\n",
       "</table>\n",
       "</div>"
      ],
      "text/plain": [
       "   demand  year  day  isWeekend  timeOfDay  Season  sin_hour  cos_hour  \\\n",
       "0      91  2018   18          1          1       0  0.707107 -0.707107   \n",
       "1      21  2018   18          1          1       0  0.500000 -0.866025   \n",
       "2      23  2018   18          1          3       0 -0.258819 -0.965926   \n",
       "3     104  2018   18          1          3       0 -0.500000 -0.866025   \n",
       "4      81  2018   18          1          3       0 -0.707107 -0.707107   \n",
       "\n",
       "   sin_month  cos_month  sin_isQuarterDate  cos_isQuarterDate  sin_dayOfWeek  \\\n",
       "0  -0.866025       -0.5               -1.0      -1.836970e-16      -0.974928   \n",
       "1  -0.866025       -0.5               -1.0      -1.836970e-16      -0.974928   \n",
       "2  -0.866025       -0.5               -1.0      -1.836970e-16      -0.974928   \n",
       "3  -0.866025       -0.5               -1.0      -1.836970e-16      -0.974928   \n",
       "4  -0.866025       -0.5               -1.0      -1.836970e-16      -0.974928   \n",
       "\n",
       "   cos_dayOfWeek  \n",
       "0      -0.222521  \n",
       "1      -0.222521  \n",
       "2      -0.222521  \n",
       "3      -0.222521  \n",
       "4      -0.222521  "
      ]
     },
     "execution_count": 19,
     "metadata": {},
     "output_type": "execute_result"
    }
   ],
   "source": [
    "data.head()"
   ]
  },
  {
   "cell_type": "code",
   "execution_count": 20,
   "id": "034e3385",
   "metadata": {},
   "outputs": [],
   "source": [
    "#splitting the data\n",
    "y=data['demand']\n",
    "x=data.drop('demand',axis=1)"
   ]
  },
  {
   "cell_type": "markdown",
   "id": "137d4ebd",
   "metadata": {},
   "source": [
    "# Variable Inflation Factor"
   ]
  },
  {
   "cell_type": "code",
   "execution_count": 21,
   "id": "d5bdb892",
   "metadata": {},
   "outputs": [
    {
     "data": {
      "text/html": [
       "<div>\n",
       "<style scoped>\n",
       "    .dataframe tbody tr th:only-of-type {\n",
       "        vertical-align: middle;\n",
       "    }\n",
       "\n",
       "    .dataframe tbody tr th {\n",
       "        vertical-align: top;\n",
       "    }\n",
       "\n",
       "    .dataframe thead th {\n",
       "        text-align: right;\n",
       "    }\n",
       "</style>\n",
       "<table border=\"1\" class=\"dataframe\">\n",
       "  <thead>\n",
       "    <tr style=\"text-align: right;\">\n",
       "      <th></th>\n",
       "      <th>VIF</th>\n",
       "      <th>Columns</th>\n",
       "    </tr>\n",
       "  </thead>\n",
       "  <tbody>\n",
       "    <tr>\n",
       "      <th>0</th>\n",
       "      <td>21.281766</td>\n",
       "      <td>year</td>\n",
       "    </tr>\n",
       "    <tr>\n",
       "      <th>3</th>\n",
       "      <td>17.340030</td>\n",
       "      <td>timeOfDay</td>\n",
       "    </tr>\n",
       "    <tr>\n",
       "      <th>4</th>\n",
       "      <td>10.687623</td>\n",
       "      <td>Season</td>\n",
       "    </tr>\n",
       "    <tr>\n",
       "      <th>8</th>\n",
       "      <td>9.503311</td>\n",
       "      <td>cos_month</td>\n",
       "    </tr>\n",
       "    <tr>\n",
       "      <th>7</th>\n",
       "      <td>7.271152</td>\n",
       "      <td>sin_month</td>\n",
       "    </tr>\n",
       "    <tr>\n",
       "      <th>9</th>\n",
       "      <td>6.389700</td>\n",
       "      <td>sin_isQuarterDate</td>\n",
       "    </tr>\n",
       "    <tr>\n",
       "      <th>10</th>\n",
       "      <td>6.303212</td>\n",
       "      <td>cos_isQuarterDate</td>\n",
       "    </tr>\n",
       "    <tr>\n",
       "      <th>5</th>\n",
       "      <td>4.391178</td>\n",
       "      <td>sin_hour</td>\n",
       "    </tr>\n",
       "    <tr>\n",
       "      <th>1</th>\n",
       "      <td>4.247218</td>\n",
       "      <td>day</td>\n",
       "    </tr>\n",
       "    <tr>\n",
       "      <th>2</th>\n",
       "      <td>4.031921</td>\n",
       "      <td>isWeekend</td>\n",
       "    </tr>\n",
       "    <tr>\n",
       "      <th>11</th>\n",
       "      <td>2.765791</td>\n",
       "      <td>sin_dayOfWeek</td>\n",
       "    </tr>\n",
       "    <tr>\n",
       "      <th>6</th>\n",
       "      <td>2.398320</td>\n",
       "      <td>cos_hour</td>\n",
       "    </tr>\n",
       "    <tr>\n",
       "      <th>12</th>\n",
       "      <td>1.098169</td>\n",
       "      <td>cos_dayOfWeek</td>\n",
       "    </tr>\n",
       "  </tbody>\n",
       "</table>\n",
       "</div>"
      ],
      "text/plain": [
       "          VIF            Columns\n",
       "0   21.281766               year\n",
       "3   17.340030          timeOfDay\n",
       "4   10.687623             Season\n",
       "8    9.503311          cos_month\n",
       "7    7.271152          sin_month\n",
       "9    6.389700  sin_isQuarterDate\n",
       "10   6.303212  cos_isQuarterDate\n",
       "5    4.391178           sin_hour\n",
       "1    4.247218                day\n",
       "2    4.031921          isWeekend\n",
       "11   2.765791      sin_dayOfWeek\n",
       "6    2.398320           cos_hour\n",
       "12   1.098169      cos_dayOfWeek"
      ]
     },
     "execution_count": 21,
     "metadata": {},
     "output_type": "execute_result"
    }
   ],
   "source": [
    "from statsmodels.stats.outliers_influence import variance_inflation_factor\n",
    "\n",
    "vif_info = pd.DataFrame()\n",
    "vif_info['VIF'] = [variance_inflation_factor(x.values,i) for i in range(x.shape[1])]\n",
    "vif_info['Columns'] = x.columns\n",
    "vif_info.sort_values('VIF', ascending = False)"
   ]
  },
  {
   "cell_type": "code",
   "execution_count": 22,
   "id": "8c80ade5",
   "metadata": {},
   "outputs": [],
   "source": [
    "#dropping columns with high VIF\n",
    "x.drop(['year','timeOfDay','Season','cos_month','sin_month'],axis=1,inplace=True)"
   ]
  },
  {
   "cell_type": "markdown",
   "id": "2810eca3",
   "metadata": {},
   "source": [
    "# Modelling"
   ]
  },
  {
   "cell_type": "code",
   "execution_count": 23,
   "id": "103ab741",
   "metadata": {},
   "outputs": [],
   "source": [
    "#splitting the dataset for training the model and validating\n",
    "from sklearn.model_selection import train_test_split\n",
    "x_train,x_test,y_train,y_test=train_test_split(x,y,random_state=42,test_size=0.2)"
   ]
  },
  {
   "cell_type": "markdown",
   "id": "0ec0bfe9",
   "metadata": {},
   "source": [
    "## Linear Regression Model"
   ]
  },
  {
   "cell_type": "code",
   "execution_count": 24,
   "id": "a4ea995f",
   "metadata": {},
   "outputs": [],
   "source": [
    "#Linear model\n",
    "from sklearn import linear_model\n",
    "lr=linear_model.LinearRegression()\n",
    "model=lr.fit(x_train,y_train)\n",
    "predictions=model.predict(x_test)"
   ]
  },
  {
   "cell_type": "code",
   "execution_count": 25,
   "id": "306cdac5",
   "metadata": {},
   "outputs": [
    {
     "name": "stdout",
     "output_type": "stream",
     "text": [
      "Mean of squared errors of the linear regression model is  1399.869\n"
     ]
    }
   ],
   "source": [
    "from sklearn.metrics import mean_squared_error\n",
    "MSE_lin_reg=mean_squared_error(predictions,y_test)\n",
    "print('Mean of squared errors of the linear regression model is ',round(MSE_lin_reg,3))"
   ]
  },
  {
   "cell_type": "markdown",
   "id": "4333e3a3",
   "metadata": {},
   "source": [
    "## Polynomial Regression Model"
   ]
  },
  {
   "cell_type": "code",
   "execution_count": 26,
   "id": "b48dd534",
   "metadata": {},
   "outputs": [],
   "source": [
    "#polynomial regression model with degree 2\n",
    "from sklearn.preprocessing import PolynomialFeatures  \n",
    "poly_regs= PolynomialFeatures(degree= 2)\n",
    "\n",
    "#converting feature matrix into polynomial feature matrix\n",
    "x_poly= poly_regs.fit_transform(x_train)  \n",
    "poly =linear_model.LinearRegression()  \n",
    "model=poly.fit(x_train, y_train) \n",
    "predictions=model.predict(x_test)"
   ]
  },
  {
   "cell_type": "code",
   "execution_count": 27,
   "id": "dd58663d",
   "metadata": {},
   "outputs": [
    {
     "name": "stdout",
     "output_type": "stream",
     "text": [
      "Mean of squared errors of the Polynomial regression model is  1399.869\n"
     ]
    }
   ],
   "source": [
    "MSE_poly_reg2=mean_squared_error(predictions,y_test)\n",
    "print('Mean of squared errors of the Polynomial regression model is ',round(MSE_poly_reg2,3))"
   ]
  },
  {
   "cell_type": "code",
   "execution_count": 28,
   "id": "b4153483",
   "metadata": {},
   "outputs": [],
   "source": [
    "#polynomial regression model with degree 5\n",
    "poly_regs= PolynomialFeatures(degree= 5)  \n",
    "x_poly= poly_regs.fit_transform(x_train)  \n",
    "poly =linear_model.LinearRegression()  \n",
    "model=poly.fit(x_train, y_train) \n",
    "predictions=model.predict(x_test)"
   ]
  },
  {
   "cell_type": "code",
   "execution_count": 29,
   "id": "6165e6b5",
   "metadata": {},
   "outputs": [
    {
     "name": "stdout",
     "output_type": "stream",
     "text": [
      "Mean of squared errors of the linear Polynomial model is  1399.869\n"
     ]
    }
   ],
   "source": [
    "MSE_poly_reg5=mean_squared_error(predictions,y_test)\n",
    "print('Mean of squared errors of the linear Polynomial model is ',round(MSE_poly_reg5,3))"
   ]
  },
  {
   "cell_type": "markdown",
   "id": "c3dd141e",
   "metadata": {},
   "source": [
    "## Ridge Regression Model "
   ]
  },
  {
   "cell_type": "code",
   "execution_count": 30,
   "id": "32d3d97d",
   "metadata": {},
   "outputs": [],
   "source": [
    "from sklearn.linear_model import Ridge\n",
    "ridge_reg = Ridge(alpha=0.016,normalize=True)\n",
    "model=ridge_reg.fit(x_train, y_train)\n",
    "predictions = model.predict(x_test)"
   ]
  },
  {
   "cell_type": "code",
   "execution_count": 31,
   "id": "6df17d5e",
   "metadata": {},
   "outputs": [
    {
     "name": "stdout",
     "output_type": "stream",
     "text": [
      "Mean of squared errors of the Ridge regression model is  1399.531\n"
     ]
    }
   ],
   "source": [
    "MSE_ridg_reg=mean_squared_error(predictions,y_test)\n",
    "print('Mean of squared errors of the Ridge regression model is ',round(MSE_ridg_reg,3))"
   ]
  },
  {
   "cell_type": "markdown",
   "id": "7d8f467f",
   "metadata": {},
   "source": [
    "## LASSO Regression Model "
   ]
  },
  {
   "cell_type": "code",
   "execution_count": 32,
   "id": "960a7179",
   "metadata": {},
   "outputs": [],
   "source": [
    "from sklearn.linear_model import Lasso\n",
    "lasso = Lasso()\n",
    "model=lasso.fit(x_train, y_train)\n",
    "predictions = model.predict(x_test)"
   ]
  },
  {
   "cell_type": "code",
   "execution_count": 33,
   "id": "ace91fa0",
   "metadata": {},
   "outputs": [
    {
     "name": "stdout",
     "output_type": "stream",
     "text": [
      "Mean of squared errors of the LASSO regression model is  1412.687\n"
     ]
    }
   ],
   "source": [
    "MSE_lasso=mean_squared_error(predictions,y_test)\n",
    "print('Mean of squared errors of the LASSO regression model is ',round(MSE_lasso,3))"
   ]
  },
  {
   "cell_type": "markdown",
   "id": "6eb13585",
   "metadata": {},
   "source": [
    "## Decision Tree "
   ]
  },
  {
   "cell_type": "code",
   "execution_count": 34,
   "id": "af3b44d4",
   "metadata": {},
   "outputs": [],
   "source": [
    "from sklearn.tree import DecisionTreeRegressor\n",
    "dt=DecisionTreeRegressor()\n",
    "dt_model=dt.fit(x_train,y_train)\n",
    "dt_pred=dt_model.predict(x_test)"
   ]
  },
  {
   "cell_type": "code",
   "execution_count": 35,
   "id": "c351caec",
   "metadata": {},
   "outputs": [
    {
     "name": "stdout",
     "output_type": "stream",
     "text": [
      "Mean of squared errors of the Decision Tree model is  2391.043\n"
     ]
    }
   ],
   "source": [
    "MSE_Deci=mean_squared_error(dt_pred,y_test)\n",
    "print('Mean of squared errors of the Decision Tree model is ',round(MSE_Deci,3))"
   ]
  },
  {
   "cell_type": "markdown",
   "id": "2c5eb4ab",
   "metadata": {},
   "source": [
    "## Random Forest"
   ]
  },
  {
   "cell_type": "code",
   "execution_count": 36,
   "id": "bce68b11",
   "metadata": {},
   "outputs": [],
   "source": [
    "from sklearn.ensemble import RandomForestRegressor\n",
    "rf=RandomForestRegressor()\n",
    "rf_model=rf.fit(x_train,y_train)\n",
    "rf_pred=rf_model.predict(x_test)"
   ]
  },
  {
   "cell_type": "code",
   "execution_count": 37,
   "id": "29f4d37f",
   "metadata": {},
   "outputs": [
    {
     "name": "stdout",
     "output_type": "stream",
     "text": [
      "Mean of squared errors of the Random Forest model is  1513.274\n"
     ]
    }
   ],
   "source": [
    "MSE_rf=mean_squared_error(rf_pred,y_test)\n",
    "print('Mean of squared errors of the Random Forest model is ',round(MSE_rf,3))"
   ]
  },
  {
   "cell_type": "markdown",
   "id": "73a6f04b",
   "metadata": {},
   "source": [
    "## Gradient Boosting "
   ]
  },
  {
   "cell_type": "code",
   "execution_count": 38,
   "id": "4d0900b6",
   "metadata": {},
   "outputs": [],
   "source": [
    "from sklearn.ensemble import GradientBoostingRegressor\n",
    "gb=GradientBoostingRegressor()\n",
    "gb_model=gb.fit(x_train,y_train)\n",
    "gb_pred=gb_model.predict(x_test)"
   ]
  },
  {
   "cell_type": "code",
   "execution_count": 39,
   "id": "f1ca84cb",
   "metadata": {},
   "outputs": [
    {
     "name": "stdout",
     "output_type": "stream",
     "text": [
      "Mean of squared errors of the Gradient Boosting model is  1273.334\n"
     ]
    }
   ],
   "source": [
    "MSE_gb=mean_squared_error(gb_pred,y_test)\n",
    "print('Mean of squared errors of the Gradient Boosting model is ',round(MSE_gb,3))"
   ]
  },
  {
   "cell_type": "markdown",
   "id": "0c2244f8",
   "metadata": {},
   "source": [
    "## XGBoost"
   ]
  },
  {
   "cell_type": "code",
   "execution_count": 40,
   "id": "ea2a2f79",
   "metadata": {},
   "outputs": [],
   "source": [
    "from xgboost import XGBRegressor\n",
    "xgb=XGBRegressor()\n",
    "xgb_model=xgb.fit(x_train,y_train)\n",
    "xgb_pred=xgb_model.predict(x_test)"
   ]
  },
  {
   "cell_type": "code",
   "execution_count": 41,
   "id": "a5ffc78b",
   "metadata": {},
   "outputs": [
    {
     "name": "stdout",
     "output_type": "stream",
     "text": [
      "Mean of squared errors of the XGBoost model is  1265.012\n"
     ]
    }
   ],
   "source": [
    "MSE_xgb=mean_squared_error(xgb_pred,y_test)\n",
    "print('Mean of squared errors of the XGBoost model is ',round(MSE_xgb,3))"
   ]
  },
  {
   "cell_type": "markdown",
   "id": "07c88a8c",
   "metadata": {},
   "source": [
    "## AdaBoost"
   ]
  },
  {
   "cell_type": "code",
   "execution_count": 42,
   "id": "a733d973",
   "metadata": {},
   "outputs": [],
   "source": [
    "from sklearn.ensemble import AdaBoostRegressor\n",
    "adb=AdaBoostRegressor()\n",
    "adb_model=adb.fit(x_train,y_train)\n",
    "adb_pred=adb_model.predict(x_test)"
   ]
  },
  {
   "cell_type": "code",
   "execution_count": 43,
   "id": "8c214397",
   "metadata": {},
   "outputs": [
    {
     "name": "stdout",
     "output_type": "stream",
     "text": [
      "Mean of squared errors of the AdaBoost model is  1439.537\n"
     ]
    }
   ],
   "source": [
    "MSE_adb=mean_squared_error(adb_pred,y_test)\n",
    "print('Mean of squared errors of the AdaBoost model is ',round(MSE_adb,3))"
   ]
  },
  {
   "cell_type": "markdown",
   "id": "4073ae78",
   "metadata": {},
   "source": [
    "## Summary "
   ]
  },
  {
   "cell_type": "code",
   "execution_count": 44,
   "id": "a154dbb9",
   "metadata": {},
   "outputs": [
    {
     "name": "stdout",
     "output_type": "stream",
     "text": [
      "MSE values for different models:\n",
      "\n",
      "Linear Regression Model :  1399.869\n",
      "Polynomial Regression Model(Degree = 2) :  1399.869\n",
      "Polynomial Regression Model(Degree = 5) :  1399.869\n",
      "Ridge Regression Model :  1399.531\n",
      "Lasso Regression Model :  1412.687\n",
      "Decision Tree :  2391.043\n",
      "Random Forest :  1513.274\n",
      "Gradient Boosting :  1273.334\n",
      "XGBoost :  1265.012\n",
      "AdaBoost :  1439.537\n"
     ]
    }
   ],
   "source": [
    "print('MSE values for different models:\\n')\n",
    "print('Linear Regression Model : ',round(MSE_lin_reg,3))\n",
    "print('Polynomial Regression Model(Degree = 2) : ',round(MSE_poly_reg2,3))\n",
    "print('Polynomial Regression Model(Degree = 5) : ',round(MSE_poly_reg5,3))\n",
    "print('Ridge Regression Model : ',round(MSE_ridg_reg,3))\n",
    "print('Lasso Regression Model : ',round(MSE_lasso,3))\n",
    "print('Decision Tree : ',round(MSE_Deci,3))\n",
    "print('Random Forest : ',round(MSE_rf,3))\n",
    "print('Gradient Boosting : ',round(MSE_gb,3))\n",
    "print('XGBoost : ',round(MSE_xgb,3))\n",
    "print('AdaBoost : ',round(MSE_adb,3))"
   ]
  },
  {
   "cell_type": "markdown",
   "id": "8a8c9993",
   "metadata": {},
   "source": [
    "#  Hyperparameter Tuning"
   ]
  },
  {
   "cell_type": "markdown",
   "id": "9ef58392",
   "metadata": {},
   "source": [
    "Hyperparameter tuning is done on XGBoost Model."
   ]
  },
  {
   "cell_type": "code",
   "execution_count": 45,
   "id": "41c5ae90",
   "metadata": {},
   "outputs": [
    {
     "data": {
      "text/plain": [
       "<bound method XGBModel.get_params of XGBRegressor(base_score=0.5, booster='gbtree', callbacks=None,\n",
       "             colsample_bylevel=1, colsample_bynode=1, colsample_bytree=1,\n",
       "             early_stopping_rounds=None, enable_categorical=False,\n",
       "             eval_metric=None, gamma=0, gpu_id=-1, grow_policy='depthwise',\n",
       "             importance_type=None, interaction_constraints='',\n",
       "             learning_rate=0.300000012, max_bin=256, max_cat_to_onehot=4,\n",
       "             max_delta_step=0, max_depth=6, max_leaves=0, min_child_weight=1,\n",
       "             missing=nan, monotone_constraints='()', n_estimators=100, n_jobs=0,\n",
       "             num_parallel_tree=1, predictor='auto', random_state=0, reg_alpha=0,\n",
       "             reg_lambda=1, ...)>"
      ]
     },
     "execution_count": 45,
     "metadata": {},
     "output_type": "execute_result"
    }
   ],
   "source": [
    "xgb.get_params"
   ]
  },
  {
   "cell_type": "markdown",
   "id": "53d55024",
   "metadata": {},
   "source": [
    "## GridSearch "
   ]
  },
  {
   "cell_type": "code",
   "execution_count": 46,
   "id": "3c3bd4ac",
   "metadata": {},
   "outputs": [],
   "source": [
    "#learning rate\n",
    "eta=[0.3,0.35,0.4]\n",
    "#minimum loss reduction required to make a split\n",
    "gamma=[0,10,20]\n",
    "#maximum depth of a tree\n",
    "max_depth=[3,5,7,9]\n",
    "#minimum sum of weights of all observations required in a child\n",
    "min_child_weight=[0,0.5,0.9]"
   ]
  },
  {
   "cell_type": "code",
   "execution_count": 47,
   "id": "7e42bba5",
   "metadata": {},
   "outputs": [],
   "source": [
    "# Create the param grid\n",
    "param_grid = {\n",
    "    'eta':eta,\n",
    "    'gamma':gamma,\n",
    "    'max_depth':max_depth,\n",
    "    'min_child_weight':min_child_weight\n",
    "}"
   ]
  },
  {
   "cell_type": "code",
   "execution_count": 48,
   "id": "3f87c387",
   "metadata": {},
   "outputs": [],
   "source": [
    "from sklearn.model_selection import GridSearchCV\n",
    "xgb_Grid = GridSearchCV(estimator = xgb, param_grid = param_grid, verbose=2,n_jobs=4,cv=3)"
   ]
  },
  {
   "cell_type": "code",
   "execution_count": 49,
   "id": "01621fbb",
   "metadata": {},
   "outputs": [
    {
     "name": "stdout",
     "output_type": "stream",
     "text": [
      "Fitting 3 folds for each of 108 candidates, totalling 324 fits\n"
     ]
    },
    {
     "data": {
      "text/html": [
       "<style>#sk-container-id-1 {color: black;background-color: white;}#sk-container-id-1 pre{padding: 0;}#sk-container-id-1 div.sk-toggleable {background-color: white;}#sk-container-id-1 label.sk-toggleable__label {cursor: pointer;display: block;width: 100%;margin-bottom: 0;padding: 0.3em;box-sizing: border-box;text-align: center;}#sk-container-id-1 label.sk-toggleable__label-arrow:before {content: \"▸\";float: left;margin-right: 0.25em;color: #696969;}#sk-container-id-1 label.sk-toggleable__label-arrow:hover:before {color: black;}#sk-container-id-1 div.sk-estimator:hover label.sk-toggleable__label-arrow:before {color: black;}#sk-container-id-1 div.sk-toggleable__content {max-height: 0;max-width: 0;overflow: hidden;text-align: left;background-color: #f0f8ff;}#sk-container-id-1 div.sk-toggleable__content pre {margin: 0.2em;color: black;border-radius: 0.25em;background-color: #f0f8ff;}#sk-container-id-1 input.sk-toggleable__control:checked~div.sk-toggleable__content {max-height: 200px;max-width: 100%;overflow: auto;}#sk-container-id-1 input.sk-toggleable__control:checked~label.sk-toggleable__label-arrow:before {content: \"▾\";}#sk-container-id-1 div.sk-estimator input.sk-toggleable__control:checked~label.sk-toggleable__label {background-color: #d4ebff;}#sk-container-id-1 div.sk-label input.sk-toggleable__control:checked~label.sk-toggleable__label {background-color: #d4ebff;}#sk-container-id-1 input.sk-hidden--visually {border: 0;clip: rect(1px 1px 1px 1px);clip: rect(1px, 1px, 1px, 1px);height: 1px;margin: -1px;overflow: hidden;padding: 0;position: absolute;width: 1px;}#sk-container-id-1 div.sk-estimator {font-family: monospace;background-color: #f0f8ff;border: 1px dotted black;border-radius: 0.25em;box-sizing: border-box;margin-bottom: 0.5em;}#sk-container-id-1 div.sk-estimator:hover {background-color: #d4ebff;}#sk-container-id-1 div.sk-parallel-item::after {content: \"\";width: 100%;border-bottom: 1px solid gray;flex-grow: 1;}#sk-container-id-1 div.sk-label:hover label.sk-toggleable__label {background-color: #d4ebff;}#sk-container-id-1 div.sk-serial::before {content: \"\";position: absolute;border-left: 1px solid gray;box-sizing: border-box;top: 0;bottom: 0;left: 50%;z-index: 0;}#sk-container-id-1 div.sk-serial {display: flex;flex-direction: column;align-items: center;background-color: white;padding-right: 0.2em;padding-left: 0.2em;position: relative;}#sk-container-id-1 div.sk-item {position: relative;z-index: 1;}#sk-container-id-1 div.sk-parallel {display: flex;align-items: stretch;justify-content: center;background-color: white;position: relative;}#sk-container-id-1 div.sk-item::before, #sk-container-id-1 div.sk-parallel-item::before {content: \"\";position: absolute;border-left: 1px solid gray;box-sizing: border-box;top: 0;bottom: 0;left: 50%;z-index: -1;}#sk-container-id-1 div.sk-parallel-item {display: flex;flex-direction: column;z-index: 1;position: relative;background-color: white;}#sk-container-id-1 div.sk-parallel-item:first-child::after {align-self: flex-end;width: 50%;}#sk-container-id-1 div.sk-parallel-item:last-child::after {align-self: flex-start;width: 50%;}#sk-container-id-1 div.sk-parallel-item:only-child::after {width: 0;}#sk-container-id-1 div.sk-dashed-wrapped {border: 1px dashed gray;margin: 0 0.4em 0.5em 0.4em;box-sizing: border-box;padding-bottom: 0.4em;background-color: white;}#sk-container-id-1 div.sk-label label {font-family: monospace;font-weight: bold;display: inline-block;line-height: 1.2em;}#sk-container-id-1 div.sk-label-container {text-align: center;}#sk-container-id-1 div.sk-container {/* jupyter's `normalize.less` sets `[hidden] { display: none; }` but bootstrap.min.css set `[hidden] { display: none !important; }` so we also need the `!important` here to be able to override the default hidden behavior on the sphinx rendered scikit-learn.org. See: https://github.com/scikit-learn/scikit-learn/issues/21755 */display: inline-block !important;position: relative;}#sk-container-id-1 div.sk-text-repr-fallback {display: none;}</style><div id=\"sk-container-id-1\" class=\"sk-top-container\"><div class=\"sk-text-repr-fallback\"><pre>GridSearchCV(cv=3,\n",
       "             estimator=XGBRegressor(base_score=0.5, booster=&#x27;gbtree&#x27;,\n",
       "                                    callbacks=None, colsample_bylevel=1,\n",
       "                                    colsample_bynode=1, colsample_bytree=1,\n",
       "                                    early_stopping_rounds=None,\n",
       "                                    enable_categorical=False, eval_metric=None,\n",
       "                                    gamma=0, gpu_id=-1, grow_policy=&#x27;depthwise&#x27;,\n",
       "                                    importance_type=None,\n",
       "                                    interaction_constraints=&#x27;&#x27;,\n",
       "                                    learning_rate=0.300000012, max_bin=256,\n",
       "                                    max_cat_to_onehot=4, max_delta_step=0,\n",
       "                                    max_depth=6, max_leaves=0,\n",
       "                                    min_child_weight=1, missing=nan,\n",
       "                                    monotone_constraints=&#x27;()&#x27;, n_estimators=100,\n",
       "                                    n_jobs=0, num_parallel_tree=1,\n",
       "                                    predictor=&#x27;auto&#x27;, random_state=0,\n",
       "                                    reg_alpha=0, reg_lambda=1, ...),\n",
       "             n_jobs=4,\n",
       "             param_grid={&#x27;eta&#x27;: [0.3, 0.35, 0.4], &#x27;gamma&#x27;: [0, 10, 20],\n",
       "                         &#x27;max_depth&#x27;: [3, 5, 7, 9],\n",
       "                         &#x27;min_child_weight&#x27;: [0, 0.5, 0.9]},\n",
       "             verbose=2)</pre><b>In a Jupyter environment, please rerun this cell to show the HTML representation or trust the notebook. <br />On GitHub, the HTML representation is unable to render, please try loading this page with nbviewer.org.</b></div><div class=\"sk-container\" hidden><div class=\"sk-item sk-dashed-wrapped\"><div class=\"sk-label-container\"><div class=\"sk-label sk-toggleable\"><input class=\"sk-toggleable__control sk-hidden--visually\" id=\"sk-estimator-id-1\" type=\"checkbox\" ><label for=\"sk-estimator-id-1\" class=\"sk-toggleable__label sk-toggleable__label-arrow\">GridSearchCV</label><div class=\"sk-toggleable__content\"><pre>GridSearchCV(cv=3,\n",
       "             estimator=XGBRegressor(base_score=0.5, booster=&#x27;gbtree&#x27;,\n",
       "                                    callbacks=None, colsample_bylevel=1,\n",
       "                                    colsample_bynode=1, colsample_bytree=1,\n",
       "                                    early_stopping_rounds=None,\n",
       "                                    enable_categorical=False, eval_metric=None,\n",
       "                                    gamma=0, gpu_id=-1, grow_policy=&#x27;depthwise&#x27;,\n",
       "                                    importance_type=None,\n",
       "                                    interaction_constraints=&#x27;&#x27;,\n",
       "                                    learning_rate=0.300000012, max_bin=256,\n",
       "                                    max_cat_to_onehot=4, max_delta_step=0,\n",
       "                                    max_depth=6, max_leaves=0,\n",
       "                                    min_child_weight=1, missing=nan,\n",
       "                                    monotone_constraints=&#x27;()&#x27;, n_estimators=100,\n",
       "                                    n_jobs=0, num_parallel_tree=1,\n",
       "                                    predictor=&#x27;auto&#x27;, random_state=0,\n",
       "                                    reg_alpha=0, reg_lambda=1, ...),\n",
       "             n_jobs=4,\n",
       "             param_grid={&#x27;eta&#x27;: [0.3, 0.35, 0.4], &#x27;gamma&#x27;: [0, 10, 20],\n",
       "                         &#x27;max_depth&#x27;: [3, 5, 7, 9],\n",
       "                         &#x27;min_child_weight&#x27;: [0, 0.5, 0.9]},\n",
       "             verbose=2)</pre></div></div></div><div class=\"sk-parallel\"><div class=\"sk-parallel-item\"><div class=\"sk-item\"><div class=\"sk-label-container\"><div class=\"sk-label sk-toggleable\"><input class=\"sk-toggleable__control sk-hidden--visually\" id=\"sk-estimator-id-2\" type=\"checkbox\" ><label for=\"sk-estimator-id-2\" class=\"sk-toggleable__label sk-toggleable__label-arrow\">estimator: XGBRegressor</label><div class=\"sk-toggleable__content\"><pre>XGBRegressor(base_score=0.5, booster=&#x27;gbtree&#x27;, callbacks=None,\n",
       "             colsample_bylevel=1, colsample_bynode=1, colsample_bytree=1,\n",
       "             early_stopping_rounds=None, enable_categorical=False,\n",
       "             eval_metric=None, gamma=0, gpu_id=-1, grow_policy=&#x27;depthwise&#x27;,\n",
       "             importance_type=None, interaction_constraints=&#x27;&#x27;,\n",
       "             learning_rate=0.300000012, max_bin=256, max_cat_to_onehot=4,\n",
       "             max_delta_step=0, max_depth=6, max_leaves=0, min_child_weight=1,\n",
       "             missing=nan, monotone_constraints=&#x27;()&#x27;, n_estimators=100, n_jobs=0,\n",
       "             num_parallel_tree=1, predictor=&#x27;auto&#x27;, random_state=0, reg_alpha=0,\n",
       "             reg_lambda=1, ...)</pre></div></div></div><div class=\"sk-serial\"><div class=\"sk-item\"><div class=\"sk-estimator sk-toggleable\"><input class=\"sk-toggleable__control sk-hidden--visually\" id=\"sk-estimator-id-3\" type=\"checkbox\" ><label for=\"sk-estimator-id-3\" class=\"sk-toggleable__label sk-toggleable__label-arrow\">XGBRegressor</label><div class=\"sk-toggleable__content\"><pre>XGBRegressor(base_score=0.5, booster=&#x27;gbtree&#x27;, callbacks=None,\n",
       "             colsample_bylevel=1, colsample_bynode=1, colsample_bytree=1,\n",
       "             early_stopping_rounds=None, enable_categorical=False,\n",
       "             eval_metric=None, gamma=0, gpu_id=-1, grow_policy=&#x27;depthwise&#x27;,\n",
       "             importance_type=None, interaction_constraints=&#x27;&#x27;,\n",
       "             learning_rate=0.300000012, max_bin=256, max_cat_to_onehot=4,\n",
       "             max_delta_step=0, max_depth=6, max_leaves=0, min_child_weight=1,\n",
       "             missing=nan, monotone_constraints=&#x27;()&#x27;, n_estimators=100, n_jobs=0,\n",
       "             num_parallel_tree=1, predictor=&#x27;auto&#x27;, random_state=0, reg_alpha=0,\n",
       "             reg_lambda=1, ...)</pre></div></div></div></div></div></div></div></div></div></div>"
      ],
      "text/plain": [
       "GridSearchCV(cv=3,\n",
       "             estimator=XGBRegressor(base_score=0.5, booster='gbtree',\n",
       "                                    callbacks=None, colsample_bylevel=1,\n",
       "                                    colsample_bynode=1, colsample_bytree=1,\n",
       "                                    early_stopping_rounds=None,\n",
       "                                    enable_categorical=False, eval_metric=None,\n",
       "                                    gamma=0, gpu_id=-1, grow_policy='depthwise',\n",
       "                                    importance_type=None,\n",
       "                                    interaction_constraints='',\n",
       "                                    learning_rate=0.300000012, max_bin=256,\n",
       "                                    max_cat_to_onehot=4, max_delta_step=0,\n",
       "                                    max_depth=6, max_leaves=0,\n",
       "                                    min_child_weight=1, missing=nan,\n",
       "                                    monotone_constraints='()', n_estimators=100,\n",
       "                                    n_jobs=0, num_parallel_tree=1,\n",
       "                                    predictor='auto', random_state=0,\n",
       "                                    reg_alpha=0, reg_lambda=1, ...),\n",
       "             n_jobs=4,\n",
       "             param_grid={'eta': [0.3, 0.35, 0.4], 'gamma': [0, 10, 20],\n",
       "                         'max_depth': [3, 5, 7, 9],\n",
       "                         'min_child_weight': [0, 0.5, 0.9]},\n",
       "             verbose=2)"
      ]
     },
     "execution_count": 49,
     "metadata": {},
     "output_type": "execute_result"
    }
   ],
   "source": [
    "xgb_Grid.fit(x_train, y_train)"
   ]
  },
  {
   "cell_type": "code",
   "execution_count": 50,
   "id": "32ed0fbd",
   "metadata": {},
   "outputs": [
    {
     "data": {
      "text/plain": [
       "{'eta': 0.3, 'gamma': 0, 'max_depth': 3, 'min_child_weight': 0}"
      ]
     },
     "execution_count": 50,
     "metadata": {},
     "output_type": "execute_result"
    }
   ],
   "source": [
    "xgb_Grid.best_params_                                 "
   ]
  },
  {
   "cell_type": "code",
   "execution_count": 51,
   "id": "f2203cfd",
   "metadata": {},
   "outputs": [
    {
     "name": "stdout",
     "output_type": "stream",
     "text": [
      "Mean of squared errors of the XGBoost model is  1256.522\n"
     ]
    }
   ],
   "source": [
    "xgb=XGBRegressor(learning_rate=0.30,gamma=0,max_depth=3,min_child_weight=0)\n",
    "xgb_model=xgb.fit(x_train,y_train)\n",
    "xgb_pred=xgb_model.predict(x_test)\n",
    "MSE_xgb=mean_squared_error(xgb_pred,y_test)\n",
    "print('Mean of squared errors of the XGBoost model is ',round(MSE_xgb,3))"
   ]
  },
  {
   "cell_type": "code",
   "execution_count": null,
   "id": "6115ef2b",
   "metadata": {},
   "outputs": [],
   "source": []
  }
 ],
 "metadata": {
  "kernelspec": {
   "display_name": "Python 3 (ipykernel)",
   "language": "python",
   "name": "python3"
  },
  "language_info": {
   "codemirror_mode": {
    "name": "ipython",
    "version": 3
   },
   "file_extension": ".py",
   "mimetype": "text/x-python",
   "name": "python",
   "nbconvert_exporter": "python",
   "pygments_lexer": "ipython3",
   "version": "3.9.7"
  }
 },
 "nbformat": 4,
 "nbformat_minor": 5
}
